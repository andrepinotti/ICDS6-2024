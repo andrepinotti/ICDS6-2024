{
  "nbformat": 4,
  "nbformat_minor": 0,
  "metadata": {
    "colab": {
      "provenance": [],
      "authorship_tag": "ABX9TyNQQEPa6YZ5VwWV9m9MK6rE",
      "include_colab_link": true
    },
    "kernelspec": {
      "name": "python3",
      "display_name": "Python 3"
    },
    "language_info": {
      "name": "python"
    }
  },
  "cells": [
    {
      "cell_type": "markdown",
      "metadata": {
        "id": "view-in-github",
        "colab_type": "text"
      },
      "source": [
        "<a href=\"https://colab.research.google.com/github/andrepinotti/ICDS6-2024/blob/main/FAQ.ipynb\" target=\"_parent\"><img src=\"https://colab.research.google.com/assets/colab-badge.svg\" alt=\"Open In Colab\"/></a>"
      ]
    },
    {
      "cell_type": "code",
      "execution_count": 8,
      "metadata": {
        "id": "6w4uxYXR5Hz9"
      },
      "outputs": [],
      "source": [
        "from transformers import AutoModelForQuestionAnswering, AutoTokenizer, pipeline\n",
        "model_name = \"deepset/roberta-base-squad2\"\n",
        "# a) Get predictions\n",
        "nlp = pipeline('question-answering', model=model_name, tokenizer=model_name)\n",
        "QA_input = {\n",
        "'question': 'Why is model conversion important?',\n",
        "'context': 'The option to convert models between FARM and transformers gives freedom to the user and let people easily switch between frameworks.'\n",
        "}\n",
        "res = nlp(QA_input)\n",
        "# b) Load model & tokenizer\n",
        "model = AutoModelForQuestionAnswering.from_pretrained(model_name)\n",
        "tokenizer = AutoTokenizer.from_pretrained(model_name)"
      ]
    },
    {
      "cell_type": "code",
      "source": [
        "from transformers import pipeline\n",
        "# Modelo correto é com separação a roberta 'deepset/roberta-base-squad2'\n",
        "QA_modelo = pipeline('question-answering', model='deepset/roberta-base-squad2')\n",
        "def obter_resposta(pergunta, contexto):\n",
        "  return QA_modelo(question=pergunta, context=contexto)"
      ],
      "metadata": {
        "colab": {
          "base_uri": "https://localhost:8080/"
        },
        "id": "brF08smV-hR-",
        "outputId": "1c28f993-4183-4fc2-e532-ebbc9e768064"
      },
      "execution_count": 13,
      "outputs": [
        {
          "output_type": "stream",
          "name": "stderr",
          "text": [
            "/usr/local/lib/python3.10/dist-packages/transformers/tokenization_utils_base.py:1601: FutureWarning: `clean_up_tokenization_spaces` was not set. It will be set to `True` by default. This behavior will be depracted in transformers v4.45, and will be then set to `False` by default. For more details check this issue: https://github.com/huggingface/transformers/issues/31884\n",
            "  warnings.warn(\n"
          ]
        }
      ]
    },
    {
      "cell_type": "code",
      "source": [
        "pergunta = 'What are the payment options available?'\n",
        "contexto = 'In our e-commerce, you can make payments using credit card, debit card, Apple Pay, or through bank transfers.'\n",
        "resposta = obter_resposta(pergunta, contexto)\n",
        "resposta"
      ],
      "metadata": {
        "colab": {
          "base_uri": "https://localhost:8080/"
        },
        "id": "0Y49azW1_axm",
        "outputId": "a03db155-d42f-4cce-ac6f-7da178097e4a"
      },
      "execution_count": 15,
      "outputs": [
        {
          "output_type": "execute_result",
          "data": {
            "text/plain": [
              "{'score': 0.817491352558136,\n",
              " 'start': 47,\n",
              " 'end': 108,\n",
              " 'answer': 'credit card, debit card, Apple Pay, or through bank transfers'}"
            ]
          },
          "metadata": {},
          "execution_count": 15
        }
      ]
    },
    {
      "cell_type": "code",
      "source": [
        "contextos = {\n",
        "\"How do I create an account?\": \"You can create an account by clicking on the 'Sign Up' button on our homepage. You will need to provide your email address, create a password, and fill in some basic information about yourself. An account will help you track your orders, manage your personal settings, and speed up future transactions.\",\n",
        "\"Which payment methods do you accept?\": \"We accept a wide range of payment methods including Visa, MasterCard, American Express, Discover, PayPal, and Apple Pay. You can also pay using store credit or gift cards issued by our company.\",\n",
        "\"How can I track my order?\": \"Once your order has shipped, you will receive an email with a tracking number. You can use this number on our website's tracking page to see the current status of your delivery.\",\n",
        "\"Do you offer international shipping?\": \"Yes, we offer international shipping to most countries. Shipping costs and delivery times vary depending on the destination. All applicable customs fees, taxes, and duties are the responsibility of the customer and are calculated at checkout.\",\n",
        "\"How long does delivery take?\": \"For standard shipping, deliveries typically take between 3 to 5 business days. For expedited shipping, expect your order to arrive within 1 to 2 business days. Delivery times may vary based on your location and the time of the year.\",\n",
        "\"What is your return policy?\": \"Our return policy allows you to return products within 30 days of receiving them. Items must be in their original condition and packaging. Some items, such as perishable goods, are not eligible for return.\",\n",
        "}"
      ],
      "metadata": {
        "id": "pf1UZIPiAk-0"
      },
      "execution_count": 21,
      "outputs": []
    },
    {
      "cell_type": "code",
      "source": [
        "def respondendo_faq(pergunta):\n",
        "  contexto = contextos[pergunta]\n",
        "  resultado = QA_modelo(question=pergunta, context=contexto)\n",
        "  return resultado['answer']"
      ],
      "metadata": {
        "id": "TXpV0ogTBOa1"
      },
      "execution_count": 22,
      "outputs": []
    },
    {
      "cell_type": "code",
      "source": [
        "respondendo_faq('How do I create an account?')\n"
      ],
      "metadata": {
        "colab": {
          "base_uri": "https://localhost:8080/",
          "height": 36
        },
        "id": "xN_PIHhyBSB8",
        "outputId": "9b0dba54-861d-47d6-f893-772c7f02c916"
      },
      "execution_count": 23,
      "outputs": [
        {
          "output_type": "execute_result",
          "data": {
            "text/plain": [
              "\"by clicking on the 'Sign Up' button on our homepage\""
            ],
            "application/vnd.google.colaboratory.intrinsic+json": {
              "type": "string"
            }
          },
          "metadata": {},
          "execution_count": 23
        }
      ]
    },
    {
      "cell_type": "code",
      "source": [
        "respondendo_faq('Which payment methods do you accept?')\n"
      ],
      "metadata": {
        "colab": {
          "base_uri": "https://localhost:8080/",
          "height": 36
        },
        "id": "0LLI-yK-BUib",
        "outputId": "9a2bcd0a-d5ca-4ed1-e929-76b6eb5b3690"
      },
      "execution_count": 24,
      "outputs": [
        {
          "output_type": "execute_result",
          "data": {
            "text/plain": [
              "'Visa, MasterCard, American Express, Discover, PayPal, and Apple Pay'"
            ],
            "application/vnd.google.colaboratory.intrinsic+json": {
              "type": "string"
            }
          },
          "metadata": {},
          "execution_count": 24
        }
      ]
    },
    {
      "cell_type": "code",
      "source": [
        "respondendo_faq('Do you offer international shipping?')\n"
      ],
      "metadata": {
        "colab": {
          "base_uri": "https://localhost:8080/",
          "height": 36
        },
        "id": "aEfVwiDEBWYG",
        "outputId": "3b67fc7a-709f-4a83-ac7b-c543491a98d5"
      },
      "execution_count": 25,
      "outputs": [
        {
          "output_type": "execute_result",
          "data": {
            "text/plain": [
              "'we offer international shipping to most countries'"
            ],
            "application/vnd.google.colaboratory.intrinsic+json": {
              "type": "string"
            }
          },
          "metadata": {},
          "execution_count": 25
        }
      ]
    },
    {
      "cell_type": "code",
      "source": [
        "pip install gradio"
      ],
      "metadata": {
        "id": "Cj9mfGJ5BZAz"
      },
      "execution_count": null,
      "outputs": []
    }
  ]
}